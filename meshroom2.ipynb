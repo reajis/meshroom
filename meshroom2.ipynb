{
  "cells": [
    {
      "cell_type": "markdown",
      "metadata": {
        "id": "view-in-github",
        "colab_type": "text"
      },
      "source": [
        "<a href=\"https://colab.research.google.com/github/reajis/meshroom/blob/main/meshroom2.ipynb\" target=\"_parent\"><img src=\"https://colab.research.google.com/assets/colab-badge.svg\" alt=\"Open In Colab\"/></a>"
      ]
    },
    {
      "cell_type": "code",
      "execution_count": null,
      "metadata": {
        "colab": {
          "background_save": true
        },
        "id": "G3Tb9Xfi7cKA",
        "outputId": "0d8ebfa4-2ec2-41fc-af49-a90fa2a53113"
      },
      "outputs": [
        {
          "name": "stdout",
          "output_type": "stream",
          "text": [
            "Drive already mounted at /content/drive; to attempt to forcibly remount, call drive.mount(\"/content/drive\", force_remount=True).\n",
            "\n",
            "Removing all temporary files...\n",
            "\n",
            "rm: missing operand\n",
            "Try 'rm --help' for more information.\n",
            "rm: missing operand\n",
            "Try 'rm --help' for more information.\n"
          ]
        }
      ],
      "source": [
        "import pathlib\n",
        "\n",
        "from google.colab import drive\n",
        "drive.mount('/content/drive')\n",
        "\n",
        "print(\"\\nRemoving all temporary files...\\n\")\n",
        "%rm -Rv $inputFiles\n",
        "%rm -Rv $outputFiles"
      ]
    },
    {
      "cell_type": "code",
      "execution_count": null,
      "metadata": {
        "id": "hC2zcgWO_Tqs"
      },
      "outputs": [],
      "source": [
        "import pathlib\n",
        "\n",
        "from google.colab import drive\n",
        "#drive.mount('/content/drive')\n",
        "\n",
        "print(\"\\nLaunching 3D-Reconstruction application on Google colab\\n\")\n",
        "\n",
        "# Folder paths\n",
        "currentDir = \"/content/Project-3D\" #work directory\n",
        "print(\"Locating input images in google drive...\\n\")\n",
        "\n",
        "# Folder in Google drive with input images\n",
        "inputFolder = \"/content/drive/MyDrive/3dproject/meshroom/pandapics_updatedblur2\"\n",
        "# Folder in Google drive where output will be finally stored/moved\n",
        "outputFolder = \"/content/drive/MyDrive/3dproject/meshroom/op\"\n",
        "inputFiles = currentDir + \"/input\" # folder in work directory with the input images\n",
        "outputFiles = \"/content/Project-3D/output\" # folder in work directory with output files\n",
        "meshroomFolder = currentDir + \"/meshroom\" # folder in work directory with all meshroom files\n",
        "\n",
        "# Creating all directories\n",
        "!mkdir -v $currentDir # will be skipped if allready existing\n",
        "#inputFolder should allready be created in google drive\n",
        "# and should contain images used for 3D reconstruction\n",
        "!mkdir -v $outputFolder  # will be skipped if allready existing\n",
        "#temporary folder in work directory to store input images.\n",
        "!mkdir -v $inputFiles  # Should be deleted once 3D is made.\n",
        "#temporary folder in work directory to store 3D output files.\n",
        "!mkdir -v $outputFiles  # Should be deleted once 3D output is moved to google drive folder.\n",
        "!mkdir -v $meshroomFolder # will be skipped if allready existing\n",
        "\n",
        "# Go to work directory\n",
        "%cd $currentDir\n",
        "\n",
        "# Make copy of input image files from the google drive folder\n",
        "# to the input folder of work directory\n",
        "print(\"\\nCopying input images from google drive to work directory...\\n\")\n",
        "%cp -arv $inputFolder/* $inputFiles\n",
        "\n",
        "# Check if meshroom is allready installed. If not, download and install meshroom\n",
        "meshroom_files = pathlib.Path(\"/content/Project-3D/meshroom/Meshroom-2019.2.0\")\n",
        "\n",
        "if not meshroom_files.exists ():\n",
        "  print(\"\\nMeshroom not found.\\nInstalling Meshroom...\")\n",
        "  !wget -N https://github.com/alicevision/meshroom/releases/download/v2019.2.0/Meshroom-2019.2.0-linux.tar.gz\n",
        "  !tar xzf Meshroom-2019.2.0-linux.tar.gz -C $meshroomFolder\n",
        "  %mv -v /content/Project-3D/meshroom/Meshroom-2019.2.0/* $meshroomFolder\n",
        "else :\n",
        "   print (\"\\nMeshroom is allredy installed. Skipping a new installation...\")\n",
        "\n",
        "# Execute Meshroom\n",
        "startMeshroom = \"/content/Project-3D/meshroom/meshroom_photogrammetry\"\n",
        "!$startMeshroom --input $inputFiles --output $outputFiles\n",
        "\n",
        "# Copy Output from work directory to the output folder in google drive\n",
        "print(\"\\nMoving output files to google drive...\\n\")\n",
        "%cp -arv $outputFiles/* $outputFolder\n",
        "\n",
        "# Remove the input and output folder in work directory\n",
        "#print(\"\\nRemoving all temporary files...\\n\")\n",
        "#%rm -Rv $inputFiles\n",
        "#%rm -Rv $outputFiles"
      ]
    }
  ],
  "metadata": {
    "colab": {
      "provenance": [],
      "mount_file_id": "1SknFG2IWGwlza4hEUd1sHYPppvQW6IsH",
      "authorship_tag": "ABX9TyOz6142RtQqYHRuV9UYKE+u",
      "include_colab_link": true
    },
    "kernelspec": {
      "display_name": "Python 3",
      "name": "python3"
    },
    "language_info": {
      "name": "python"
    }
  },
  "nbformat": 4,
  "nbformat_minor": 0
}